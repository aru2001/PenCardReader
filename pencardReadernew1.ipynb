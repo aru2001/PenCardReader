{
  "nbformat": 4,
  "nbformat_minor": 0,
  "metadata": {
    "colab": {
      "name": "pencardReadernew1.ipynb",
      "provenance": [],
      "include_colab_link": true
    },
    "kernelspec": {
      "name": "python3",
      "display_name": "Python 3"
    },
    "accelerator": "GPU"
  },
  "cells": [
    {
      "cell_type": "markdown",
      "metadata": {
        "id": "view-in-github",
        "colab_type": "text"
      },
      "source": [
        "<a href=\"https://colab.research.google.com/github/aru2001/PenCardReader/blob/main/pencardReadernew1.ipynb\" target=\"_parent\"><img src=\"https://colab.research.google.com/assets/colab-badge.svg\" alt=\"Open In Colab\"/></a>"
      ]
    },
    {
      "cell_type": "code",
      "metadata": {
        "colab": {
          "base_uri": "https://localhost:8080/"
        },
        "id": "zsDK0nwJOJL-",
        "outputId": "c3cd33f8-8d54-4e30-99a8-9c7512004920"
      },
      "source": [
        "from google.colab import drive\r\n",
        "drive.mount('/content/gdrive')"
      ],
      "execution_count": 1,
      "outputs": [
        {
          "output_type": "stream",
          "text": [
            "Mounted at /content/gdrive\n"
          ],
          "name": "stdout"
        }
      ]
    },
    {
      "cell_type": "code",
      "metadata": {
        "colab": {
          "base_uri": "https://localhost:8080/"
        },
        "id": "KIp840pvQkPh",
        "outputId": "d17ada1a-7cb5-45cc-908e-3e549fa5deb8"
      },
      "source": [
        "%cd '/content/gdrive/My Drive/machine learning'"
      ],
      "execution_count": 2,
      "outputs": [
        {
          "output_type": "stream",
          "text": [
            "/content/gdrive/My Drive/machine learning\n"
          ],
          "name": "stdout"
        }
      ]
    },
    {
      "cell_type": "code",
      "metadata": {
        "colab": {
          "base_uri": "https://localhost:8080/"
        },
        "id": "IBAnYkmrbcQ5",
        "outputId": "a84e24b2-bb82-4760-800d-6608abd74023"
      },
      "source": [
        "!pip install easyocr"
      ],
      "execution_count": 3,
      "outputs": [
        {
          "output_type": "stream",
          "text": [
            "Collecting easyocr\n",
            "\u001b[?25l  Downloading https://files.pythonhosted.org/packages/24/ec/8f18775c989fc0a1ae76a202b4e65a6c61ec786c5b0f94f77aa1af0be376/easyocr-1.2.2-py3-none-any.whl (62.3MB)\n",
            "\u001b[K     |████████████████████████████████| 62.4MB 53kB/s \n",
            "\u001b[?25hCollecting python-bidi\n",
            "  Downloading https://files.pythonhosted.org/packages/33/b0/f942d146a2f457233baaafd6bdf624eba8e0f665045b4abd69d1b62d097d/python_bidi-0.4.2-py2.py3-none-any.whl\n",
            "Requirement already satisfied: opencv-python in /usr/local/lib/python3.6/dist-packages (from easyocr) (4.1.2.30)\n",
            "Requirement already satisfied: scikit-image in /usr/local/lib/python3.6/dist-packages (from easyocr) (0.16.2)\n",
            "Requirement already satisfied: Pillow in /usr/local/lib/python3.6/dist-packages (from easyocr) (7.0.0)\n",
            "Requirement already satisfied: scipy in /usr/local/lib/python3.6/dist-packages (from easyocr) (1.4.1)\n",
            "Requirement already satisfied: PyYAML in /usr/local/lib/python3.6/dist-packages (from easyocr) (3.13)\n",
            "Requirement already satisfied: numpy in /usr/local/lib/python3.6/dist-packages (from easyocr) (1.19.5)\n",
            "Requirement already satisfied: torch in /usr/local/lib/python3.6/dist-packages (from easyocr) (1.7.0+cu101)\n",
            "Requirement already satisfied: torchvision>=0.5 in /usr/local/lib/python3.6/dist-packages (from easyocr) (0.8.1+cu101)\n",
            "Requirement already satisfied: six in /usr/local/lib/python3.6/dist-packages (from python-bidi->easyocr) (1.15.0)\n",
            "Requirement already satisfied: matplotlib!=3.0.0,>=2.0.0 in /usr/local/lib/python3.6/dist-packages (from scikit-image->easyocr) (3.2.2)\n",
            "Requirement already satisfied: networkx>=2.0 in /usr/local/lib/python3.6/dist-packages (from scikit-image->easyocr) (2.5)\n",
            "Requirement already satisfied: imageio>=2.3.0 in /usr/local/lib/python3.6/dist-packages (from scikit-image->easyocr) (2.4.1)\n",
            "Requirement already satisfied: PyWavelets>=0.4.0 in /usr/local/lib/python3.6/dist-packages (from scikit-image->easyocr) (1.1.1)\n",
            "Requirement already satisfied: dataclasses in /usr/local/lib/python3.6/dist-packages (from torch->easyocr) (0.8)\n",
            "Requirement already satisfied: future in /usr/local/lib/python3.6/dist-packages (from torch->easyocr) (0.16.0)\n",
            "Requirement already satisfied: typing-extensions in /usr/local/lib/python3.6/dist-packages (from torch->easyocr) (3.7.4.3)\n",
            "Requirement already satisfied: pyparsing!=2.0.4,!=2.1.2,!=2.1.6,>=2.0.1 in /usr/local/lib/python3.6/dist-packages (from matplotlib!=3.0.0,>=2.0.0->scikit-image->easyocr) (2.4.7)\n",
            "Requirement already satisfied: python-dateutil>=2.1 in /usr/local/lib/python3.6/dist-packages (from matplotlib!=3.0.0,>=2.0.0->scikit-image->easyocr) (2.8.1)\n",
            "Requirement already satisfied: kiwisolver>=1.0.1 in /usr/local/lib/python3.6/dist-packages (from matplotlib!=3.0.0,>=2.0.0->scikit-image->easyocr) (1.3.1)\n",
            "Requirement already satisfied: cycler>=0.10 in /usr/local/lib/python3.6/dist-packages (from matplotlib!=3.0.0,>=2.0.0->scikit-image->easyocr) (0.10.0)\n",
            "Requirement already satisfied: decorator>=4.3.0 in /usr/local/lib/python3.6/dist-packages (from networkx>=2.0->scikit-image->easyocr) (4.4.2)\n",
            "Installing collected packages: python-bidi, easyocr\n",
            "Successfully installed easyocr-1.2.2 python-bidi-0.4.2\n"
          ],
          "name": "stdout"
        }
      ]
    },
    {
      "cell_type": "code",
      "metadata": {
        "id": "93NV0Gplbh7C"
      },
      "source": [
        "import matplotlib.pyplot as plt\r\n",
        "import cv2\r\n",
        "import easyocr\r\n",
        "from pylab import rcParams\r\n",
        "from IPython.display import Image\r\n",
        "rcParams['figure.figsize'] = 8,16\r\n"
      ],
      "execution_count": 4,
      "outputs": []
    },
    {
      "cell_type": "code",
      "metadata": {
        "colab": {
          "base_uri": "https://localhost:8080/"
        },
        "id": "ALBaxjbUdGrW",
        "outputId": "6204592a-6b0a-48c0-cf27-c29165683e95"
      },
      "source": [
        "reader = easyocr.Reader(['en'])"
      ],
      "execution_count": 5,
      "outputs": [
        {
          "output_type": "stream",
          "text": [
            "Downloading detection model, please wait. This may take several minutes depending upon your network connection.\n"
          ],
          "name": "stderr"
        },
        {
          "output_type": "stream",
          "text": [
            ""
          ],
          "name": "stdout"
        },
        {
          "output_type": "stream",
          "text": [
            "Downloading recognition model, please wait. This may take several minutes depending upon your network connection.\n"
          ],
          "name": "stderr"
        },
        {
          "output_type": "stream",
          "text": [
            ""
          ],
          "name": "stdout"
        }
      ]
    },
    {
      "cell_type": "code",
      "metadata": {
        "colab": {
          "base_uri": "https://localhost:8080/"
        },
        "id": "DczUn137cgn0",
        "outputId": "08f497b5-c16c-4058-98ce-a6eb826073ad"
      },
      "source": [
        "from scipy.ndimage import rotate\r\n",
        "import cv2\r\n",
        "import re\r\n",
        "\r\n",
        "def ocr(img,cnt):\r\n",
        "  \r\n",
        "  output = reader.readtext(img)\r\n",
        "  temp =[]\r\n",
        "  \r\n",
        "  date_of_birth=0\r\n",
        "  Acc_num=0\r\n",
        "  for i in range(len(output)):\r\n",
        "    temp.append(output[i][1])\r\n",
        "  \r\n",
        "  dob = re.compile(r'\\d\\d/\\d\\d/\\d\\d\\d\\d') \r\n",
        "  num = re.compile(\"^[A-Z0-9]*$\")\r\n",
        "  \r\n",
        "  for i in temp:\r\n",
        "    if re.search(dob, i) !=None:\r\n",
        "      date_of_birth = i\r\n",
        "    if re.search(num,i) and (len(i) == 10):\r\n",
        "      Acc_num = i\r\n",
        "    \r\n",
        "  \r\n",
        "  if (date_of_birth !=0) and (Acc_num !=0):\r\n",
        "  \r\n",
        "    return \"date of Birth: \"+str(date_of_birth)+\"  Account_Number: \"+str(Acc_num)\r\n",
        "  else:\r\n",
        "\r\n",
        "    if cnt <=4:\r\n",
        "      rotate_img = rotate(img, 90)\r\n",
        "      cnt+=1\r\n",
        "      \r\n",
        "      return ocr(rotate_img,cnt)\r\n",
        "    else:\r\n",
        "      return \"please upload correct img\"\r\n",
        "\r\n",
        "cnt=1\r\n",
        "try:\r\n",
        "  img = cv2.imread('pencard.png')\r\n",
        "  result = ocr(img,cnt)\r\n",
        "  print(result)\r\n",
        "except:\r\n",
        "  print(\"Image not found.\")\r\n"
      ],
      "execution_count": 65,
      "outputs": [
        {
          "output_type": "stream",
          "text": [
            "date of Birth: 30/01/1997  Account_Number: ELWPM8089J\n"
          ],
          "name": "stdout"
        }
      ]
    }
  ]
}